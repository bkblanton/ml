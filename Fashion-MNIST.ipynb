{
 "cells": [
  {
   "cell_type": "code",
   "execution_count": 2,
   "metadata": {
    "scrolled": true
   },
   "outputs": [
    {
     "name": "stderr",
     "output_type": "stream",
     "text": [
      "Using TensorFlow backend.\n"
     ]
    }
   ],
   "source": [
    "from keras.datasets import fashion_mnist\n",
    "from keras.models import Sequential, load_model\n",
    "from keras.layers import Conv2D, MaxPooling2D, Dense, Flatten, BatchNormalization, Dropout, GlobalMaxPooling2D\n",
    "from keras.utils import to_categorical\n",
    "from keras.callbacks import EarlyStopping, ModelCheckpoint\n",
    "from keras.preprocessing.image import ImageDataGenerator\n",
    "from sklearn.metrics import classification_report\n",
    "from sklearn.preprocessing import LabelBinarizer\n",
    "import numpy as np\n",
    "import matplotlib.pyplot as plt\n",
    "import cv2\n",
    "import pickle\n",
    "import time"
   ]
  },
  {
   "cell_type": "code",
   "execution_count": 3,
   "metadata": {},
   "outputs": [],
   "source": [
    "# Load and transform training data\n",
    "(x_train, y_train), (x_test, y_test) = fashion_mnist.load_data()\n",
    "x_train = np.expand_dims(x_train, axis=-1)\n",
    "x_train_norm = x_train/255\n",
    "y_train = np.expand_dims(y_train, axis=-1)\n",
    "x_test = np.expand_dims(x_test, axis=-1)\n",
    "x_test_norm = x_test/255\n",
    "y_test = np.expand_dims(y_test, axis=-1)\n",
    "\n",
    "# Convert labels to vectors\n",
    "target_names=['T-shirt/top','Trouser','Pullover','Dress','Coat','Sandal','Shirt','Sneaker','Bag','Ankle boot']\n",
    "binarizer = LabelBinarizer()\n",
    "y_test_binarized = binarizer.fit_transform(y_test)\n",
    "y_train_binarized = binarizer.transform(y_train)\n",
    "\n",
    "# Generate stream of training data\n",
    "datagen = ImageDataGenerator(horizontal_flip=True)\n",
    "datagen.fit(x_train)"
   ]
  },
  {
   "cell_type": "code",
   "execution_count": 4,
   "metadata": {},
   "outputs": [],
   "source": [
    "# Load model\n",
    "model = load_model('fashion-mnist.model')"
   ]
  },
  {
   "cell_type": "code",
   "execution_count": 38,
   "metadata": {
    "scrolled": false
   },
   "outputs": [
    {
     "name": "stdout",
     "output_type": "stream",
     "text": [
      "_________________________________________________________________\n",
      "Layer (type)                 Output Shape              Param #   \n",
      "=================================================================\n",
      "batch_normalization_48 (Batc (None, 28, 28, 1)         4         \n",
      "_________________________________________________________________\n",
      "conv2d_85 (Conv2D)           (None, 28, 28, 32)        320       \n",
      "_________________________________________________________________\n",
      "batch_normalization_49 (Batc (None, 28, 28, 32)        128       \n",
      "_________________________________________________________________\n",
      "conv2d_86 (Conv2D)           (None, 28, 28, 32)        9248      \n",
      "_________________________________________________________________\n",
      "max_pooling2d_52 (MaxPooling (None, 14, 14, 32)        0         \n",
      "_________________________________________________________________\n",
      "batch_normalization_50 (Batc (None, 14, 14, 32)        128       \n",
      "_________________________________________________________________\n",
      "conv2d_87 (Conv2D)           (None, 14, 14, 64)        18496     \n",
      "_________________________________________________________________\n",
      "batch_normalization_51 (Batc (None, 14, 14, 64)        256       \n",
      "_________________________________________________________________\n",
      "conv2d_88 (Conv2D)           (None, 14, 14, 64)        36928     \n",
      "_________________________________________________________________\n",
      "max_pooling2d_53 (MaxPooling (None, 7, 7, 64)          0         \n",
      "_________________________________________________________________\n",
      "batch_normalization_52 (Batc (None, 7, 7, 64)          256       \n",
      "_________________________________________________________________\n",
      "conv2d_89 (Conv2D)           (None, 7, 7, 128)         73856     \n",
      "_________________________________________________________________\n",
      "batch_normalization_53 (Batc (None, 7, 7, 128)         512       \n",
      "_________________________________________________________________\n",
      "conv2d_90 (Conv2D)           (None, 7, 7, 128)         147584    \n",
      "_________________________________________________________________\n",
      "max_pooling2d_54 (MaxPooling (None, 3, 3, 128)         0         \n",
      "_________________________________________________________________\n",
      "flatten_18 (Flatten)         (None, 1152)              0         \n",
      "_________________________________________________________________\n",
      "dropout_38 (Dropout)         (None, 1152)              0         \n",
      "_________________________________________________________________\n",
      "batch_normalization_54 (Batc (None, 1152)              4608      \n",
      "_________________________________________________________________\n",
      "dense_31 (Dense)             (None, 256)               295168    \n",
      "_________________________________________________________________\n",
      "dropout_39 (Dropout)         (None, 256)               0         \n",
      "_________________________________________________________________\n",
      "batch_normalization_55 (Batc (None, 256)               1024      \n",
      "_________________________________________________________________\n",
      "dense_32 (Dense)             (None, 10)                2570      \n",
      "=================================================================\n",
      "Total params: 591,086\n",
      "Trainable params: 587,628\n",
      "Non-trainable params: 3,458\n",
      "_________________________________________________________________\n"
     ]
    }
   ],
   "source": [
    "# Create model\n",
    "model = Sequential()\n",
    "\n",
    "\n",
    "model.add(BatchNormalization(input_shape=x_train.shape[1:]))\n",
    "# First conv layer\n",
    "model.add(Conv2D(32, 3, padding='same', activation='relu'))\n",
    "model.add(BatchNormalization())\n",
    "model.add(Conv2D(32, 3, padding='same', activation='relu'))\n",
    "model.add(MaxPooling2D())\n",
    "# model.add(Dropout(0.1))\n",
    "model.add(BatchNormalization())\n",
    "\n",
    "# Second conv layer\n",
    "model.add(Conv2D(64, 3, padding='same', activation='relu'))\n",
    "# model.add(Dropout(0.1))\n",
    "model.add(BatchNormalization())\n",
    "model.add(Conv2D(64, 3, padding='same', activation='relu'))\n",
    "model.add(MaxPooling2D())\n",
    "# model.add(Dropout(0.1))\n",
    "model.add(BatchNormalization())\n",
    "\n",
    "# Third conv layer\n",
    "model.add(Conv2D(128, 3, padding='same', activation='relu'))\n",
    "# model.add(Dropout(0.2))\n",
    "model.add(BatchNormalization())\n",
    "model.add(Conv2D(128, 3, padding='same', activation='relu'))\n",
    "model.add(MaxPooling2D())\n",
    "model.add(Flatten())\n",
    "model.add(Dropout(0.5))\n",
    "model.add(BatchNormalization())\n",
    "\n",
    "# FC layer\n",
    "model.add(Dense(256))\n",
    "model.add(Dropout(0.5))\n",
    "model.add(BatchNormalization())\n",
    "\n",
    "# Output layer\n",
    "model.add(Dense(10, activation='softmax'))\n",
    "\n",
    "model.compile(optimizer='adam',\n",
    "             loss='categorical_crossentropy',\n",
    "             metrics=['accuracy'])\n",
    "model.summary()\n"
   ]
  },
  {
   "cell_type": "code",
   "execution_count": 39,
   "metadata": {
    "scrolled": true
   },
   "outputs": [
    {
     "name": "stdout",
     "output_type": "stream",
     "text": [
      "Epoch 1/40\n",
      "1875/1875 [==============================] - 40s 21ms/step - loss: 0.5100 - acc: 0.8189 - val_loss: 0.3483 - val_acc: 0.8743\n",
      "\n",
      "Epoch 00001: val_loss improved from inf to 0.34830, saving model to model.h5\n",
      "Epoch 2/40\n",
      "1875/1875 [==============================] - 36s 19ms/step - loss: 0.3340 - acc: 0.8805 - val_loss: 0.2728 - val_acc: 0.9007\n",
      "\n",
      "Epoch 00002: val_loss improved from 0.34830 to 0.27283, saving model to model.h5\n",
      "Epoch 3/40\n",
      "1875/1875 [==============================] - 36s 19ms/step - loss: 0.2951 - acc: 0.8957 - val_loss: 0.2832 - val_acc: 0.8927\n",
      "\n",
      "Epoch 00003: val_loss did not improve from 0.27283\n",
      "Epoch 4/40\n",
      "1875/1875 [==============================] - 35s 19ms/step - loss: 0.2696 - acc: 0.9041 - val_loss: 0.2375 - val_acc: 0.9134\n",
      "\n",
      "Epoch 00004: val_loss improved from 0.27283 to 0.23746, saving model to model.h5\n",
      "Epoch 5/40\n",
      "1875/1875 [==============================] - 35s 19ms/step - loss: 0.2527 - acc: 0.9101 - val_loss: 0.2401 - val_acc: 0.9093\n",
      "\n",
      "Epoch 00005: val_loss did not improve from 0.23746\n",
      "Epoch 6/40\n",
      "1875/1875 [==============================] - 35s 19ms/step - loss: 0.2371 - acc: 0.9166 - val_loss: 0.2184 - val_acc: 0.9212\n",
      "\n",
      "Epoch 00006: val_loss improved from 0.23746 to 0.21839, saving model to model.h5\n",
      "Epoch 7/40\n",
      "1875/1875 [==============================] - 35s 19ms/step - loss: 0.2263 - acc: 0.9194 - val_loss: 0.2139 - val_acc: 0.9230\n",
      "\n",
      "Epoch 00007: val_loss improved from 0.21839 to 0.21390, saving model to model.h5\n",
      "Epoch 8/40\n",
      "1875/1875 [==============================] - 35s 19ms/step - loss: 0.2104 - acc: 0.9257 - val_loss: 0.2114 - val_acc: 0.9251\n",
      "\n",
      "Epoch 00008: val_loss improved from 0.21390 to 0.21145, saving model to model.h5\n",
      "Epoch 9/40\n",
      "1875/1875 [==============================] - 35s 19ms/step - loss: 0.2023 - acc: 0.9288 - val_loss: 0.2113 - val_acc: 0.9252\n",
      "\n",
      "Epoch 00009: val_loss improved from 0.21145 to 0.21134, saving model to model.h5\n",
      "Epoch 10/40\n",
      "1875/1875 [==============================] - 35s 19ms/step - loss: 0.1915 - acc: 0.9325 - val_loss: 0.2129 - val_acc: 0.9247\n",
      "\n",
      "Epoch 00010: val_loss did not improve from 0.21134\n",
      "Epoch 11/40\n",
      "1875/1875 [==============================] - 35s 19ms/step - loss: 0.1834 - acc: 0.9350 - val_loss: 0.1888 - val_acc: 0.9339\n",
      "\n",
      "Epoch 00011: val_loss improved from 0.21134 to 0.18882, saving model to model.h5\n",
      "Epoch 12/40\n",
      "1875/1875 [==============================] - 35s 19ms/step - loss: 0.1796 - acc: 0.9369 - val_loss: 0.1935 - val_acc: 0.9318\n",
      "\n",
      "Epoch 00012: val_loss did not improve from 0.18882\n",
      "Epoch 13/40\n",
      "1875/1875 [==============================] - 35s 19ms/step - loss: 0.1702 - acc: 0.9391 - val_loss: 0.1939 - val_acc: 0.9345\n",
      "\n",
      "Epoch 00013: val_loss did not improve from 0.18882\n",
      "Epoch 14/40\n",
      "1875/1875 [==============================] - 35s 19ms/step - loss: 0.1657 - acc: 0.9409 - val_loss: 0.1870 - val_acc: 0.9332\n",
      "\n",
      "Epoch 00014: val_loss improved from 0.18882 to 0.18702, saving model to model.h5\n",
      "Epoch 15/40\n",
      "1875/1875 [==============================] - 35s 19ms/step - loss: 0.1554 - acc: 0.9450 - val_loss: 0.2016 - val_acc: 0.9297\n",
      "\n",
      "Epoch 00015: val_loss did not improve from 0.18702\n",
      "Epoch 16/40\n",
      "1875/1875 [==============================] - 35s 19ms/step - loss: 0.1558 - acc: 0.9453 - val_loss: 0.1913 - val_acc: 0.9302\n",
      "\n",
      "Epoch 00016: val_loss did not improve from 0.18702\n",
      "Epoch 17/40\n",
      "1875/1875 [==============================] - 35s 19ms/step - loss: 0.1457 - acc: 0.9481 - val_loss: 0.1845 - val_acc: 0.9362\n",
      "\n",
      "Epoch 00017: val_loss improved from 0.18702 to 0.18453, saving model to model.h5\n",
      "Epoch 18/40\n",
      "1875/1875 [==============================] - 35s 19ms/step - loss: 0.1406 - acc: 0.9506 - val_loss: 0.1970 - val_acc: 0.9311\n",
      "\n",
      "Epoch 00018: val_loss did not improve from 0.18453\n",
      "Epoch 19/40\n",
      "1875/1875 [==============================] - 35s 19ms/step - loss: 0.1366 - acc: 0.9507 - val_loss: 0.1820 - val_acc: 0.9385\n",
      "\n",
      "Epoch 00019: val_loss improved from 0.18453 to 0.18196, saving model to model.h5\n",
      "Epoch 20/40\n",
      "1875/1875 [==============================] - 35s 19ms/step - loss: 0.1307 - acc: 0.9522 - val_loss: 0.1887 - val_acc: 0.9361\n",
      "\n",
      "Epoch 00020: val_loss did not improve from 0.18196\n",
      "Epoch 21/40\n",
      "1875/1875 [==============================] - 35s 19ms/step - loss: 0.1296 - acc: 0.9541 - val_loss: 0.1834 - val_acc: 0.9393\n",
      "\n",
      "Epoch 00021: val_loss did not improve from 0.18196\n",
      "Epoch 22/40\n",
      "1875/1875 [==============================] - 35s 19ms/step - loss: 0.1225 - acc: 0.9568 - val_loss: 0.1936 - val_acc: 0.9348\n",
      "\n",
      "Epoch 00022: val_loss did not improve from 0.18196\n",
      "Epoch 23/40\n",
      "1875/1875 [==============================] - 35s 19ms/step - loss: 0.1181 - acc: 0.9587 - val_loss: 0.2056 - val_acc: 0.9318\n",
      "\n",
      "Epoch 00023: val_loss did not improve from 0.18196\n",
      "Epoch 24/40\n",
      "1875/1875 [==============================] - 35s 19ms/step - loss: 0.1168 - acc: 0.9592 - val_loss: 0.1877 - val_acc: 0.9366\n",
      "\n",
      "Epoch 00024: val_loss did not improve from 0.18196\n",
      "Epoch 00024: early stopping\n"
     ]
    }
   ],
   "source": [
    "# Train model\n",
    "history = model.fit_generator(datagen.flow(x_train_norm, y_train_binarized, batch_size=32),\n",
    "                              steps_per_epoch=len(x_train_norm)/32,\n",
    "                              epochs=40,\n",
    "                              validation_data=(x_test_norm, y_test_binarized),\n",
    "                              callbacks=[\n",
    "                                  EarlyStopping(patience=5, verbose=1),\n",
    "                                  ModelCheckpoint('fashion-mnist.model', save_best_only=True, verbose=1)\n",
    "                              ])"
   ]
  },
  {
   "cell_type": "code",
   "execution_count": 7,
   "metadata": {
    "scrolled": true
   },
   "outputs": [
    {
     "name": "stdout",
     "output_type": "stream",
     "text": [
      "10000/10000 [==============================] - 2s 154us/step\n",
      "[0.1819636699706316, 0.9385]\n",
      "              precision    recall  f1-score   support\n",
      "\n",
      " T-shirt/top       0.89      0.89      0.89      1000\n",
      "     Trouser       1.00      0.99      0.99      1000\n",
      "    Pullover       0.91      0.91      0.91      1000\n",
      "       Dress       0.94      0.94      0.94      1000\n",
      "        Coat       0.88      0.94      0.91      1000\n",
      "      Sandal       0.99      0.99      0.99      1000\n",
      "       Shirt       0.85      0.80      0.82      1000\n",
      "     Sneaker       0.96      0.98      0.97      1000\n",
      "         Bag       0.99      0.99      0.99      1000\n",
      "  Ankle boot       0.98      0.96      0.97      1000\n",
      "\n",
      "   micro avg       0.94      0.94      0.94     10000\n",
      "   macro avg       0.94      0.94      0.94     10000\n",
      "weighted avg       0.94      0.94      0.94     10000\n",
      "\n"
     ]
    }
   ],
   "source": [
    "# Show the classification report for testing  data\n",
    "print(model.evaluate(x=x_test_norm, y=y_test_binarized))\n",
    "probs = model.predict(x_test_norm)\n",
    "preds = np.argmax(probs,axis=1)\n",
    "print(classification_report(y_test, \n",
    "                      preds, \n",
    "                      target_names=target_names)\n",
    "     )"
   ]
  },
  {
   "cell_type": "code",
   "execution_count": 43,
   "metadata": {
    "scrolled": true
   },
   "outputs": [
    {
     "data": {
      "image/png": "[encoded data removed]",
      "text/plain": [
       "<Figure size 432x288 with 1 Axes>"
      ]
     },
     "metadata": {
      "needs_background": "light"
     },
     "output_type": "display_data"
    }
   ],
   "source": [
    "# Plot the history of loss and val_loss during training\n",
    "plt.plot(history.history['loss'], color='r', label='loss')\n",
    "plt.plot(history.history['val_loss'], color='b', label='val_loss')\n",
    "plt.legend()\n",
    "plt.xticks(np.arange(20)*2)\n",
    "plt.xlabel('epoch')\n",
    "plt.ylabel('loss')\n",
    "\n",
    "# Save history\n",
    "with open('history'+str(time.clock()),'wb') as h:\n",
    "    pickle.dump(history.history, h)"
   ]
  },
  {
   "cell_type": "code",
   "execution_count": 13,
   "metadata": {},
   "outputs": [
    {
     "name": "stdout",
     "output_type": "stream",
     "text": [
      "prediction: Ankle boot, truth: Ankle boot\n"
     ]
    },
    {
     "data": {
      "text/plain": [
       "<matplotlib.image.AxesImage at 0x12067519e48>"
      ]
     },
     "execution_count": 13,
     "metadata": {},
     "output_type": "execute_result"
    },
    {
     "data": {
      "image/png": "[encoded data removed]",
      "text/plain": [
       "<Figure size 432x288 with 1 Axes>"
      ]
     },
     "metadata": {
      "needs_background": "light"
     },
     "output_type": "display_data"
    }
   ],
   "source": [
    "# Display sample image and classification\n",
    "i = np.random.choice(np.arange(len(x_test)), size=1)[0]\n",
    "img = x_test[i]\n",
    "class_i = np.argmax(model.predict(np.expand_dims(img, axis=0)), axis=1)[0]\n",
    "class_name = target_names[class_i]\n",
    "img = cv2.resize(img, (256,256))\n",
    "img = cv2.cvtColor(img, cv2.COLOR_GRAY2BGR)\n",
    "print('prediction: {}, truth: {}'.format(class_name, target_names[y_test[i][0]]))\n",
    "plt.imshow(img)"
   ]
  }
 ],
 "metadata": {
  "kernelspec": {
   "display_name": "Python 3",
   "language": "python",
   "name": "python3"
  },
  "language_info": {
   "codemirror_mode": {
    "name": "ipython",
    "version": 3
   },
   "file_extension": ".py",
   "mimetype": "text/x-python",
   "name": "python",
   "nbconvert_exporter": "python",
   "pygments_lexer": "ipython3",
   "version": "3.6.6"
  }
 },
 "nbformat": 4,
 "nbformat_minor": 2
}
